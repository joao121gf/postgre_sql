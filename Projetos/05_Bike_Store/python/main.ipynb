{
 "cells": [
  {
   "cell_type": "code",
   "execution_count": 1,
   "metadata": {},
   "outputs": [],
   "source": [
    "#Automacao para criar tabelas dos arquivos CSV\n",
    "#importacoes\n",
    "import pandas as pd\n",
    "import psycopg2\n",
    "import os\n",
    "from sqlalchemy import create_engine\n"
   ]
  },
  {
   "cell_type": "code",
   "execution_count": 8,
   "metadata": {},
   "outputs": [],
   "source": [
    "#Configurando banco\n",
    "user = 'postgres'\n",
    "password = 'postgres'\n",
    "host = 'localhost'\n",
    "port = '5432'\n",
    "database = 'bike_store'\n",
    "\n",
    "engine = create_engine(f'postgresql+psycopg2://{user}:{password}@{host}:{port}/{database}')"
   ]
  },
  {
   "cell_type": "code",
   "execution_count": 5,
   "metadata": {},
   "outputs": [],
   "source": [
    "#Caminho da pastas com o CSVS\n",
    "pastas_csv = \"C:/Users/Gioher/Desktop/Programação/estudos/postgre_sql/Projetos/05_Bike_Store/data/raw\"\n"
   ]
  },
  {
   "cell_type": "code",
   "execution_count": 9,
   "metadata": {},
   "outputs": [
    {
     "name": "stdout",
     "output_type": "stream",
     "text": [
      "Tabela 'brands' criada com sucesso!\n",
      "Tabela 'categories' criada com sucesso!\n",
      "Tabela 'customers' criada com sucesso!\n",
      "Tabela 'orders' criada com sucesso!\n",
      "Tabela 'order_items' criada com sucesso!\n",
      "Tabela 'products' criada com sucesso!\n",
      "Tabela 'staffs' criada com sucesso!\n",
      "Tabela 'stocks' criada com sucesso!\n",
      "Tabela 'stores' criada com sucesso!\n"
     ]
    }
   ],
   "source": [
    "# Percorre todos os arquivos .csv da pasta\n",
    "for arquivo in os.listdir(pastas_csv):\n",
    "    if arquivo.endswith('.csv'):\n",
    "        caminho_completo = os.path.join(pastas_csv, arquivo)\n",
    "        \n",
    "        # Nome da tabela baseado no nome do arquivo (sem extensão)\n",
    "        nome_tabela = os.path.splitext(arquivo)[0].lower()\n",
    "        \n",
    "        # Lê o CSV\n",
    "        df = pd.read_csv(caminho_completo)\n",
    "\n",
    "        # Cria a tabela e importa os dados\n",
    "        df.to_sql(nome_tabela, engine, if_exists='replace', index=False)\n",
    "        \n",
    "        print(f\"Tabela '{nome_tabela}' criada com sucesso!\")"
   ]
  }
 ],
 "metadata": {
  "kernelspec": {
   "display_name": "Python 3",
   "language": "python",
   "name": "python3"
  },
  "language_info": {
   "codemirror_mode": {
    "name": "ipython",
    "version": 3
   },
   "file_extension": ".py",
   "mimetype": "text/x-python",
   "name": "python",
   "nbconvert_exporter": "python",
   "pygments_lexer": "ipython3",
   "version": "3.13.1"
  }
 },
 "nbformat": 4,
 "nbformat_minor": 2
}
