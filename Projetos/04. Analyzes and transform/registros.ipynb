{
 "cells": [
  {
   "cell_type": "code",
   "execution_count": 4,
   "metadata": {},
   "outputs": [],
   "source": [
    "#IMPORTACOES\n",
    "import pandas as pd\n",
    "import random\n",
    "from datetime import datetime, timedelta"
   ]
  },
  {
   "cell_type": "code",
   "execution_count": 10,
   "metadata": {},
   "outputs": [],
   "source": [
    "#gerando 10000 usuarios ficticios:\n",
    "num_registros = 10000\n",
    "nomes = [\"Carlos\", \"Ana\", \"João\", \"Mariana\", \"Pedro\", \"Fernanda\", \"Lucas\", \"Juliana\"]\n",
    "planos = [\"Básico\", \"Padrão\", \"Premium\"]\n",
    "status_opcoes = [\"Ativo\", \"Cancelado\"]\n",
    "\n",
    "dados = {\n",
    "    'id': list(range(1, num_registros + 1)),  # Gera IDs de 1 a 10000\n",
    "    'name': [random.choice(nomes) for _ in range(num_registros)],  # Remove o número no nome\n",
    "    'email': [f\"user{i}@email.com\" for i in range(num_registros)],\n",
    "    \"date_register\": [(datetime.today() - timedelta(days=random.randint(0, 365))).strftime(\"%Y-%m-%d\") for _ in range(num_registros)],\n",
    "    \"plane\": [random.choice(planos) for _ in range(num_registros)],\n",
    "    \"status\": [random.choice(status_opcoes) for _ in range(num_registros)],\n",
    "}\n"
   ]
  },
  {
   "cell_type": "code",
   "execution_count": 11,
   "metadata": {},
   "outputs": [
    {
     "data": {
      "text/html": [
       "<div>\n",
       "<style scoped>\n",
       "    .dataframe tbody tr th:only-of-type {\n",
       "        vertical-align: middle;\n",
       "    }\n",
       "\n",
       "    .dataframe tbody tr th {\n",
       "        vertical-align: top;\n",
       "    }\n",
       "\n",
       "    .dataframe thead th {\n",
       "        text-align: right;\n",
       "    }\n",
       "</style>\n",
       "<table border=\"1\" class=\"dataframe\">\n",
       "  <thead>\n",
       "    <tr style=\"text-align: right;\">\n",
       "      <th></th>\n",
       "      <th>id</th>\n",
       "      <th>name</th>\n",
       "      <th>email</th>\n",
       "      <th>date_register</th>\n",
       "      <th>plane</th>\n",
       "      <th>status</th>\n",
       "    </tr>\n",
       "  </thead>\n",
       "  <tbody>\n",
       "    <tr>\n",
       "      <th>0</th>\n",
       "      <td>1</td>\n",
       "      <td>Mariana</td>\n",
       "      <td>user0@email.com</td>\n",
       "      <td>2025-01-15</td>\n",
       "      <td>Padrão</td>\n",
       "      <td>Ativo</td>\n",
       "    </tr>\n",
       "    <tr>\n",
       "      <th>1</th>\n",
       "      <td>2</td>\n",
       "      <td>Lucas</td>\n",
       "      <td>user1@email.com</td>\n",
       "      <td>2024-07-20</td>\n",
       "      <td>Padrão</td>\n",
       "      <td>Ativo</td>\n",
       "    </tr>\n",
       "    <tr>\n",
       "      <th>2</th>\n",
       "      <td>3</td>\n",
       "      <td>João</td>\n",
       "      <td>user2@email.com</td>\n",
       "      <td>2024-08-05</td>\n",
       "      <td>Premium</td>\n",
       "      <td>Ativo</td>\n",
       "    </tr>\n",
       "    <tr>\n",
       "      <th>3</th>\n",
       "      <td>4</td>\n",
       "      <td>Juliana</td>\n",
       "      <td>user3@email.com</td>\n",
       "      <td>2025-01-31</td>\n",
       "      <td>Premium</td>\n",
       "      <td>Ativo</td>\n",
       "    </tr>\n",
       "    <tr>\n",
       "      <th>4</th>\n",
       "      <td>5</td>\n",
       "      <td>Mariana</td>\n",
       "      <td>user4@email.com</td>\n",
       "      <td>2024-05-12</td>\n",
       "      <td>Básico</td>\n",
       "      <td>Cancelado</td>\n",
       "    </tr>\n",
       "  </tbody>\n",
       "</table>\n",
       "</div>"
      ],
      "text/plain": [
       "   id     name            email date_register    plane     status\n",
       "0   1  Mariana  user0@email.com    2025-01-15   Padrão      Ativo\n",
       "1   2    Lucas  user1@email.com    2024-07-20   Padrão      Ativo\n",
       "2   3     João  user2@email.com    2024-08-05  Premium      Ativo\n",
       "3   4  Juliana  user3@email.com    2025-01-31  Premium      Ativo\n",
       "4   5  Mariana  user4@email.com    2024-05-12   Básico  Cancelado"
      ]
     },
     "execution_count": 11,
     "metadata": {},
     "output_type": "execute_result"
    }
   ],
   "source": [
    "#CRIANDO DATA FRAME\n",
    "df = pd.DataFrame(dados)\n",
    "df.head()\n",
    "\n"
   ]
  },
  {
   "cell_type": "code",
   "execution_count": 12,
   "metadata": {},
   "outputs": [],
   "source": [
    "#SALVANDO COMO CSV SEM INDICE E CABEÇALHO\n",
    "df.to_csv('usuarios.csv', index=False, header=False)"
   ]
  },
  {
   "cell_type": "code",
   "execution_count": null,
   "metadata": {},
   "outputs": [],
   "source": [
    "#CARREGANDO O CSV NO POSTGRESQL\n"
   ]
  }
 ],
 "metadata": {
  "kernelspec": {
   "display_name": "Python 3",
   "language": "python",
   "name": "python3"
  },
  "language_info": {
   "codemirror_mode": {
    "name": "ipython",
    "version": 3
   },
   "file_extension": ".py",
   "mimetype": "text/x-python",
   "name": "python",
   "nbconvert_exporter": "python",
   "pygments_lexer": "ipython3",
   "version": "3.13.1"
  }
 },
 "nbformat": 4,
 "nbformat_minor": 2
}
