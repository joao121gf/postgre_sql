{
 "cells": [
  {
   "cell_type": "code",
   "execution_count": 1,
   "metadata": {},
   "outputs": [],
   "source": [
    "#PREPARANDO O AMBIENTE\n",
    "import pandas as pd\n",
    "from sqlalchemy import create_engine\n",
    "from IPython.display import display\n",
    "import psycopg2"
   ]
  },
  {
   "cell_type": "code",
   "execution_count": 2,
   "metadata": {},
   "outputs": [
    {
     "data": {
      "text/html": [
       "<div>\n",
       "<style scoped>\n",
       "    .dataframe tbody tr th:only-of-type {\n",
       "        vertical-align: middle;\n",
       "    }\n",
       "\n",
       "    .dataframe tbody tr th {\n",
       "        vertical-align: top;\n",
       "    }\n",
       "\n",
       "    .dataframe thead th {\n",
       "        text-align: right;\n",
       "    }\n",
       "</style>\n",
       "<table border=\"1\" class=\"dataframe\">\n",
       "  <thead>\n",
       "    <tr style=\"text-align: right;\">\n",
       "      <th></th>\n",
       "      <th>id</th>\n",
       "      <th>data_venda</th>\n",
       "      <th>produto</th>\n",
       "      <th>categoria</th>\n",
       "      <th>valor</th>\n",
       "    </tr>\n",
       "  </thead>\n",
       "  <tbody>\n",
       "    <tr>\n",
       "      <th>0</th>\n",
       "      <td>1</td>\n",
       "      <td>2024-03-01</td>\n",
       "      <td>Notebook Dell</td>\n",
       "      <td>Eletrônicos</td>\n",
       "      <td>4500.0</td>\n",
       "    </tr>\n",
       "    <tr>\n",
       "      <th>1</th>\n",
       "      <td>2</td>\n",
       "      <td>2024-03-05</td>\n",
       "      <td>Smartphone Samsung</td>\n",
       "      <td>Eletrônicos</td>\n",
       "      <td>2500.0</td>\n",
       "    </tr>\n",
       "    <tr>\n",
       "      <th>2</th>\n",
       "      <td>3</td>\n",
       "      <td>2024-03-10</td>\n",
       "      <td>Camiseta Nike</td>\n",
       "      <td>Moda</td>\n",
       "      <td>120.0</td>\n",
       "    </tr>\n",
       "    <tr>\n",
       "      <th>3</th>\n",
       "      <td>4</td>\n",
       "      <td>2024-03-15</td>\n",
       "      <td>Tênis Adidas</td>\n",
       "      <td>Moda</td>\n",
       "      <td>350.0</td>\n",
       "    </tr>\n",
       "    <tr>\n",
       "      <th>4</th>\n",
       "      <td>5</td>\n",
       "      <td>2024-03-20</td>\n",
       "      <td>Monitor LG</td>\n",
       "      <td>Eletrônicos</td>\n",
       "      <td>1200.0</td>\n",
       "    </tr>\n",
       "  </tbody>\n",
       "</table>\n",
       "</div>"
      ],
      "text/plain": [
       "   id  data_venda             produto    categoria   valor\n",
       "0   1  2024-03-01       Notebook Dell  Eletrônicos  4500.0\n",
       "1   2  2024-03-05  Smartphone Samsung  Eletrônicos  2500.0\n",
       "2   3  2024-03-10       Camiseta Nike         Moda   120.0\n",
       "3   4  2024-03-15        Tênis Adidas         Moda   350.0\n",
       "4   5  2024-03-20          Monitor LG  Eletrônicos  1200.0"
      ]
     },
     "execution_count": 2,
     "metadata": {},
     "output_type": "execute_result"
    }
   ],
   "source": [
    "#CONEXAO COM O BANCO DE DADOS\n",
    "dbname = '02_etl_python'\n",
    "user = 'postgres'\n",
    "password = 'postgres'\n",
    "host = 'localhost'\n",
    "port = '5432'\n",
    "\n",
    "conn = psycopg2.connect(dbname = dbname,\n",
    "                        user = user,\n",
    "                        password = password,\n",
    "                        host = host,\n",
    "                        port = port)\n",
    "\n",
    "engine = create_engine(f\"postgresql+psycopg2://{user}:{password}@{host}/{dbname}\")\n",
    "query = 'SELECT * FROM vendas'\n",
    "df = pd.read_sql(query, engine)\n",
    "df.head()\n"
   ]
  },
  {
   "cell_type": "code",
   "execution_count": 3,
   "metadata": {},
   "outputs": [
    {
     "data": {
      "text/html": [
       "<div>\n",
       "<style scoped>\n",
       "    .dataframe tbody tr th:only-of-type {\n",
       "        vertical-align: middle;\n",
       "    }\n",
       "\n",
       "    .dataframe tbody tr th {\n",
       "        vertical-align: top;\n",
       "    }\n",
       "\n",
       "    .dataframe thead th {\n",
       "        text-align: right;\n",
       "    }\n",
       "</style>\n",
       "<table border=\"1\" class=\"dataframe\">\n",
       "  <thead>\n",
       "    <tr style=\"text-align: right;\">\n",
       "      <th></th>\n",
       "      <th>id</th>\n",
       "      <th>data_venda</th>\n",
       "      <th>produto</th>\n",
       "      <th>categoria</th>\n",
       "      <th>valor</th>\n",
       "    </tr>\n",
       "  </thead>\n",
       "  <tbody>\n",
       "  </tbody>\n",
       "</table>\n",
       "</div>"
      ],
      "text/plain": [
       "Empty DataFrame\n",
       "Columns: [id, data_venda, produto, categoria, valor]\n",
       "Index: []"
      ]
     },
     "metadata": {},
     "output_type": "display_data"
    }
   ],
   "source": [
    "#Filtrando as vendas do ultimo mês :\n",
    "#Primeiro vamos converter a coluna de data para datetime:\n",
    "df['data_venda'] = pd.to_datetime(df['data_venda'])\n",
    "\n",
    "#OBTENDO A DATA DE HOJE:\n",
    "today = pd.to_datetime('today')\n",
    "\n",
    "#OBTENDO O PRIMEIRO DIA DO ULTIMO MES:\n",
    "first_day_last_mounth = (today.replace(day=1) - pd.DateOffset(month=1))\n",
    "\n",
    "\n",
    "#OBTENDO O ULTIMO DIA DO ULTIMO MES:\n",
    "last_day_mounth = (today.replace(day=1) - pd.Timedelta(days=1))\n",
    "\n",
    "\n",
    "#FILTRANDO APENAS AS VENDAS DENTRO DESSE INTERVALO:\n",
    "df_last_mounth = df[(df['data_venda'] >= first_day_last_mounth) & (df['data_venda'] <= last_day_mounth)]\n",
    "display(df_last_mounth)"
   ]
  },
  {
   "cell_type": "code",
   "execution_count": 4,
   "metadata": {},
   "outputs": [
    {
     "data": {
      "text/html": [
       "<div>\n",
       "<style scoped>\n",
       "    .dataframe tbody tr th:only-of-type {\n",
       "        vertical-align: middle;\n",
       "    }\n",
       "\n",
       "    .dataframe tbody tr th {\n",
       "        vertical-align: top;\n",
       "    }\n",
       "\n",
       "    .dataframe thead th {\n",
       "        text-align: right;\n",
       "    }\n",
       "</style>\n",
       "<table border=\"1\" class=\"dataframe\">\n",
       "  <thead>\n",
       "    <tr style=\"text-align: right;\">\n",
       "      <th></th>\n",
       "      <th>categoria</th>\n",
       "      <th>valor</th>\n",
       "    </tr>\n",
       "  </thead>\n",
       "  <tbody>\n",
       "    <tr>\n",
       "      <th>0</th>\n",
       "      <td>Eletrodomésticos</td>\n",
       "      <td>1250.0</td>\n",
       "    </tr>\n",
       "    <tr>\n",
       "      <th>1</th>\n",
       "      <td>Eletrônicos</td>\n",
       "      <td>8200.0</td>\n",
       "    </tr>\n",
       "    <tr>\n",
       "      <th>2</th>\n",
       "      <td>Moda</td>\n",
       "      <td>470.0</td>\n",
       "    </tr>\n",
       "    <tr>\n",
       "      <th>3</th>\n",
       "      <td>Móveis</td>\n",
       "      <td>6850.0</td>\n",
       "    </tr>\n",
       "  </tbody>\n",
       "</table>\n",
       "</div>"
      ],
      "text/plain": [
       "          categoria   valor\n",
       "0  Eletrodomésticos  1250.0\n",
       "1       Eletrônicos  8200.0\n",
       "2              Moda   470.0\n",
       "3            Móveis  6850.0"
      ]
     },
     "metadata": {},
     "output_type": "display_data"
    }
   ],
   "source": [
    "#CALCULE O TOTAL DE VENDAS POR CATEGORIA:\n",
    "sales_per_category = df.groupby('categoria')['valor'].sum().reset_index()\n",
    "display(sales_per_category)"
   ]
  },
  {
   "cell_type": "code",
   "execution_count": 5,
   "metadata": {},
   "outputs": [
    {
     "data": {
      "text/plain": [
       "id            0\n",
       "data_venda    0\n",
       "produto       0\n",
       "categoria     0\n",
       "valor         0\n",
       "dtype: int64"
      ]
     },
     "metadata": {},
     "output_type": "display_data"
    }
   ],
   "source": [
    "#REMOVA OS REGISTROS COM VALORES NULOS \n",
    "nulos_coluna = df.isna().sum()\n",
    "display(nulos_coluna)\n"
   ]
  },
  {
   "cell_type": "code",
   "execution_count": 6,
   "metadata": {},
   "outputs": [
    {
     "name": "stdout",
     "output_type": "stream",
     "text": [
      "Dados carregados com sucesso!\n"
     ]
    }
   ],
   "source": [
    "#CARREGANDO DADOS TRANSFORMADOS DE VOLTA AO POSTGRE\n",
    "sales_per_category.to_sql(\"vendas_processadas\", engine, if_exists='replace', index=False)\n",
    "print(\"Dados carregados com sucesso!\")\n"
   ]
  },
  {
   "cell_type": "code",
   "execution_count": 7,
   "metadata": {},
   "outputs": [],
   "source": [
    "#FECHANDO A CONEXAO\n",
    "conn.close()"
   ]
  }
 ],
 "metadata": {
  "kernelspec": {
   "display_name": "Python 3",
   "language": "python",
   "name": "python3"
  },
  "language_info": {
   "codemirror_mode": {
    "name": "ipython",
    "version": 3
   },
   "file_extension": ".py",
   "mimetype": "text/x-python",
   "name": "python",
   "nbconvert_exporter": "python",
   "pygments_lexer": "ipython3",
   "version": "3.13.1"
  }
 },
 "nbformat": 4,
 "nbformat_minor": 2
}
