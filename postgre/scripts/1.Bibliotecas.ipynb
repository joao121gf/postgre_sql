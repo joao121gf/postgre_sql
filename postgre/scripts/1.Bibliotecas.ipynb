{
 "cells": [
  {
   "cell_type": "markdown",
   "metadata": {},
   "source": [
    "sgbds/script/activate #PARA RODAR O AMBIENTE VIRTUAL\n",
    "\n",
    "\n",
    "pip install virtualenv\n",
    "python -m venv sgbds (nome do ambiente)\n",
    "sgbds/script/activate\n",
    "\n",
    "\n",
    "\n",
    "\n"
   ]
  },
  {
   "cell_type": "markdown",
   "metadata": {},
   "source": [
    "pip install psycopg2 #PARA CONEXAO COM BANCO DE DADOS POSTGRESQL\n",
    "pip install openpyxl #PARA TRABALHAR COM ARQUIVOS EXCEL ( XLSX)\n",
    "pip install pandas # para manipulacao e analise de dados \n",
    "\n",
    "\n",
    "para upgrade \n",
    "pip install --upgrade pandas"
   ]
  }
 ],
 "metadata": {
  "kernelspec": {
   "display_name": "sgbd",
   "language": "python",
   "name": "python3"
  },
  "language_info": {
   "name": "python",
   "version": "3.13.1"
  }
 },
 "nbformat": 4,
 "nbformat_minor": 2
}
