{
 "cells": [
  {
   "cell_type": "markdown",
   "metadata": {},
   "source": [
    "pip install psycopg2 #PARA CONEXAO COM BANCO DE DADOS POSTGRESQL\n",
    "pip install openpyxl #PARA TRABALHAR COM ARQUIVOS EXCEL ( XLSX)\n",
    "pip install pandas # para manipulacao e analise de dados \n",
    "\n",
    "\n",
    "para upgrade \n",
    "pip install --upgrade pandas"
   ]
  },
  {
   "cell_type": "markdown",
   "metadata": {},
   "source": [
    "s"
   ]
  }
 ],
 "metadata": {
  "kernelspec": {
   "display_name": "sgbd",
   "language": "python",
   "name": "python3"
  },
  "language_info": {
   "name": "python",
   "version": "3.13.1"
  }
 },
 "nbformat": 4,
 "nbformat_minor": 2
}
