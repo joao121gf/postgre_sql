{
 "cells": [
  {
   "cell_type": "markdown",
   "metadata": {},
   "source": [
    "Projeto inserindo dados Json da anac em banco postgre\n",
    "Passos do projeto:\n",
    "1 - importar json como df\n",
    "2- tratar os dados levar apenas colunas\n",
    "3- tirar acendo de nomes de colunas\n",
    "4- criar bando de dados e tabela\n",
    "5 - configurar conexao\n",
    "6 - enviar dados para o postgre\n",
    "7- Criar um delete da tabela para nao ter historico, mantendo em banco sempre os dados mais recentes\n",
    "8- refaturar codigo ( apagar oque nao será usado)\n",
    "9 - salvando com extensao PY\n"
   ]
  }
 ],
 "metadata": {
  "language_info": {
   "name": "python"
  }
 },
 "nbformat": 4,
 "nbformat_minor": 2
}
