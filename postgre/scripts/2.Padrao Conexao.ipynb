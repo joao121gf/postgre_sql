{
 "cells": [
  {
   "cell_type": "code",
   "execution_count": null,
   "metadata": {},
   "outputs": [
    {
     "ename": "OperationalError",
     "evalue": "connection to server at \"localhost\" (::1), port 5432 failed: FATAL:  password authentication failed for user \"seu_usuario\"\n",
     "output_type": "error",
     "traceback": [
      "\u001b[31m---------------------------------------------------------------------------\u001b[39m",
      "\u001b[31mOperationalError\u001b[39m                          Traceback (most recent call last)",
      "\u001b[36mCell\u001b[39m\u001b[36m \u001b[39m\u001b[32mIn[3]\u001b[39m\u001b[32m, line 12\u001b[39m\n\u001b[32m      8\u001b[39m port= \u001b[33m'\u001b[39m\u001b[33m5432\u001b[39m\u001b[33m'\u001b[39m\n\u001b[32m     11\u001b[39m \u001b[38;5;66;03m#criando uma conexao\u001b[39;00m\n\u001b[32m---> \u001b[39m\u001b[32m12\u001b[39m conn = \u001b[43mpsycopg2\u001b[49m\u001b[43m.\u001b[49m\u001b[43mconnect\u001b[49m\u001b[43m(\u001b[49m\u001b[43mdbname\u001b[49m\u001b[43m \u001b[49m\u001b[43m=\u001b[49m\u001b[43m \u001b[49m\u001b[43mdbname\u001b[49m\u001b[43m,\u001b[49m\n\u001b[32m     13\u001b[39m \u001b[43m                        \u001b[49m\u001b[43muser\u001b[49m\u001b[43m \u001b[49m\u001b[43m=\u001b[49m\u001b[43m \u001b[49m\u001b[43muser\u001b[49m\u001b[43m,\u001b[49m\n\u001b[32m     14\u001b[39m \u001b[43m                        \u001b[49m\u001b[43mpassword\u001b[49m\u001b[43m \u001b[49m\u001b[43m=\u001b[49m\u001b[43m \u001b[49m\u001b[43mpassword\u001b[49m\u001b[43m,\u001b[49m\n\u001b[32m     15\u001b[39m \u001b[43m                        \u001b[49m\u001b[43mhost\u001b[49m\u001b[43m \u001b[49m\u001b[43m=\u001b[49m\u001b[43m \u001b[49m\u001b[43mhost\u001b[49m\u001b[43m,\u001b[49m\n\u001b[32m     16\u001b[39m \u001b[43m                        \u001b[49m\u001b[43mport\u001b[49m\u001b[43m \u001b[49m\u001b[43m=\u001b[49m\u001b[43m \u001b[49m\u001b[43mport\u001b[49m\u001b[43m)\u001b[49m\n\u001b[32m     19\u001b[39m cur = conn.cursor() \u001b[38;5;66;03m#CRIAR UM CURSOR DEIXA MANIPULAR OS DADOS\u001b[39;00m\n\u001b[32m     21\u001b[39m conn.commit() \u001b[38;5;66;03m# validar as alteracoes que a gente fez\u001b[39;00m\n",
      "\u001b[36mFile \u001b[39m\u001b[32mc:\\Users\\Gioher\\Desktop\\Programação\\estudos\\postgre_sql\\sgbd\\Lib\\site-packages\\psycopg2\\__init__.py:135\u001b[39m, in \u001b[36mconnect\u001b[39m\u001b[34m(dsn, connection_factory, cursor_factory, **kwargs)\u001b[39m\n\u001b[32m    132\u001b[39m     kwasync[\u001b[33m'\u001b[39m\u001b[33masync_\u001b[39m\u001b[33m'\u001b[39m] = kwargs.pop(\u001b[33m'\u001b[39m\u001b[33masync_\u001b[39m\u001b[33m'\u001b[39m)\n\u001b[32m    134\u001b[39m dsn = _ext.make_dsn(dsn, **kwargs)\n\u001b[32m--> \u001b[39m\u001b[32m135\u001b[39m conn = \u001b[43m_connect\u001b[49m\u001b[43m(\u001b[49m\u001b[43mdsn\u001b[49m\u001b[43m,\u001b[49m\u001b[43m \u001b[49m\u001b[43mconnection_factory\u001b[49m\u001b[43m=\u001b[49m\u001b[43mconnection_factory\u001b[49m\u001b[43m,\u001b[49m\u001b[43m \u001b[49m\u001b[43m*\u001b[49m\u001b[43m*\u001b[49m\u001b[43mkwasync\u001b[49m\u001b[43m)\u001b[49m\n\u001b[32m    136\u001b[39m \u001b[38;5;28;01mif\u001b[39;00m cursor_factory \u001b[38;5;129;01mis\u001b[39;00m \u001b[38;5;129;01mnot\u001b[39;00m \u001b[38;5;28;01mNone\u001b[39;00m:\n\u001b[32m    137\u001b[39m     conn.cursor_factory = cursor_factory\n",
      "\u001b[31mOperationalError\u001b[39m: connection to server at \"localhost\" (::1), port 5432 failed: FATAL:  password authentication failed for user \"seu_usuario\"\n"
     ]
    }
   ],
   "source": [
    "import psycopg2\n",
    "\n",
    "#PARAMETROS DE CONEXAO\n",
    "dbname = 'seu_banco_de_dados'\n",
    "user = 'seu_usuario'\n",
    "password = 'sua senha'\n",
    "host = 'localhost'\n",
    "port= '5432'\n",
    "\n",
    "\n",
    "#criando uma conexao\n",
    "conn = psycopg2.connect(dbname = dbname,\n",
    "                        user = user,\n",
    "                        password = password,\n",
    "                        host = host,\n",
    "                        port = port)\n",
    "\n",
    "\n",
    "\n",
    "cur = conn.cursor() #CRIA UM CURSOR PARA MANIPULAR OR DADOS\n",
    "\n",
    "\n",
    "##APOS FAZER AS ALTERACOES FAZER O COMMIT PARA O BANCO:\n",
    "conn.commit() # validar as alteracoes que a gente fez\n",
    "#fecha o cursor e a conexao\n",
    "cur.close()\n",
    "conn.close()\n",
    "#isso garante a segurança dos dados"
   ]
  },
  {
   "cell_type": "code",
   "execution_count": null,
   "metadata": {},
   "outputs": [
    {
     "name": "stdout",
     "output_type": "stream",
     "text": [
      "<cursor object at 0x000001348A3E9FC0; closed: 0>\n"
     ]
    }
   ],
   "source": [
    "#EXEMPLO REAL\n",
    "import psycopg2\n",
    "dbname = 'engenharia_dados'\n",
    "user = 'postgres'\n",
    "password = 'postgres'\n",
    "host = 'localhost'\n",
    "port = '5432'\n",
    "\n",
    "#Criando conexao\n",
    "conn = psycopg2.connect(dbname = dbname,\n",
    "                        user = user,\n",
    "                        password = password,\n",
    "                        host = host,\n",
    "                        port = port)\n",
    "cur = conn.cursor()\n",
    "print(cur)\n"
   ]
  }
 ],
 "metadata": {
  "kernelspec": {
   "display_name": "sgbd",
   "language": "python",
   "name": "python3"
  },
  "language_info": {
   "codemirror_mode": {
    "name": "ipython",
    "version": 3
   },
   "file_extension": ".py",
   "mimetype": "text/x-python",
   "name": "python",
   "nbconvert_exporter": "python",
   "pygments_lexer": "ipython3",
   "version": "3.13.1"
  }
 },
 "nbformat": 4,
 "nbformat_minor": 2
}
